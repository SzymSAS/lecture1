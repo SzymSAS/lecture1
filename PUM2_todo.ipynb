{
  "nbformat": 4,
  "nbformat_minor": 0,
  "metadata": {
    "colab": {
      "provenance": []
    },
    "kernelspec": {
      "name": "python3",
      "display_name": "Python 3"
    },
    "language_info": {
      "name": "python"
    }
  },
  "cells": [
    {
      "cell_type": "markdown",
      "source": [
        "Pobierz dane dotyczące scoringu kredytowego\n",
        "\n",
        "*Pracujesz jako analityk danych w globalnej firmie finansowej. Przez lata firma gromadziła podstawowe dane bankowe i wiele informacji związanych z kredytami. Kierownictwo chce zbudować inteligentny system do segregowania ludzi w przedziałach oceny kredytowej, aby zmniejszyć wysiłek ręczny.*\n",
        "\n",
        "**Zadanie na dziś: przygotować dane do modelu**"
      ],
      "metadata": {
        "id": "Y22vMBZYIAcJ"
      }
    },
    {
      "cell_type": "code",
      "source": [
        "#import necessary libraries\n",
        "import pandas as pd\n",
        "import numpy as np\n",
        "import matplotlib.pyplot as plt\n",
        "import seaborn as sns\n",
        "from sklearn.preprocessing import LabelEncoder\n",
        "from sklearn.preprocessing import MultiLabelBinarizer"
      ],
      "metadata": {
        "id": "GN2L8mZzLgao"
      },
      "execution_count": 1,
      "outputs": []
    },
    {
      "cell_type": "markdown",
      "source": [
        "import danych"
      ],
      "metadata": {
        "id": "GQ7bAnsLLg_X"
      }
    },
    {
      "cell_type": "code",
      "execution_count": 2,
      "metadata": {
        "id": "NJSWu_jIRZcq",
        "outputId": "8a77d587-18e4-44da-bca9-1b8b163f81f2",
        "colab": {
          "base_uri": "https://localhost:8080/"
        }
      },
      "outputs": [
        {
          "output_type": "stream",
          "name": "stderr",
          "text": [
            "<ipython-input-2-db52f5663265>:9: DeprecationWarning: load_dataset is deprecated and will be removed in future version.\n",
            "  df = kagglehub.load_dataset(KaggleDatasetAdapter.PANDAS, \"parisrohan/credit-score-classification\", file_path,\n"
          ]
        },
        {
          "output_type": "stream",
          "name": "stdout",
          "text": [
            "Downloading from https://www.kaggle.com/api/v1/datasets/download/parisrohan/credit-score-classification?dataset_version_number=1&file_name=train.csv...\n"
          ]
        },
        {
          "output_type": "stream",
          "name": "stderr",
          "text": [
            "100%|██████████| 6.09M/6.09M [00:00<00:00, 15.6MB/s]"
          ]
        },
        {
          "output_type": "stream",
          "name": "stdout",
          "text": [
            "Extracting zip of train.csv...\n"
          ]
        },
        {
          "output_type": "stream",
          "name": "stderr",
          "text": [
            "\n",
            "/usr/local/lib/python3.11/dist-packages/kagglehub/pandas_datasets.py:91: DtypeWarning: Columns (26) have mixed types. Specify dtype option on import or set low_memory=False.\n",
            "  result = read_function(\n"
          ]
        },
        {
          "output_type": "stream",
          "name": "stdout",
          "text": [
            "First 5 records:        ID Customer_ID     Month           Name   Age          SSN Occupation  \\\n",
            "0  0x1602   CUS_0xd40   January  Aaron Maashoh    23  821-00-0265  Scientist   \n",
            "1  0x1603   CUS_0xd40  February  Aaron Maashoh    23  821-00-0265  Scientist   \n",
            "2  0x1604   CUS_0xd40     March  Aaron Maashoh  -500  821-00-0265  Scientist   \n",
            "3  0x1605   CUS_0xd40     April  Aaron Maashoh    23  821-00-0265  Scientist   \n",
            "4  0x1606   CUS_0xd40       May  Aaron Maashoh    23  821-00-0265  Scientist   \n",
            "\n",
            "  Annual_Income  Monthly_Inhand_Salary  Num_Bank_Accounts  ...  Credit_Mix  \\\n",
            "0      19114.12            1824.843333                  3  ...           _   \n",
            "1      19114.12                    NaN                  3  ...        Good   \n",
            "2      19114.12                    NaN                  3  ...        Good   \n",
            "3      19114.12                    NaN                  3  ...        Good   \n",
            "4      19114.12            1824.843333                  3  ...        Good   \n",
            "\n",
            "   Outstanding_Debt Credit_Utilization_Ratio     Credit_History_Age  \\\n",
            "0            809.98                26.822620  22 Years and 1 Months   \n",
            "1            809.98                31.944960                    NaN   \n",
            "2            809.98                28.609352  22 Years and 3 Months   \n",
            "3            809.98                31.377862  22 Years and 4 Months   \n",
            "4            809.98                24.797347  22 Years and 5 Months   \n",
            "\n",
            "   Payment_of_Min_Amount Total_EMI_per_month Amount_invested_monthly  \\\n",
            "0                     No           49.574949       80.41529543900253   \n",
            "1                     No           49.574949      118.28022162236736   \n",
            "2                     No           49.574949         81.699521264648   \n",
            "3                     No           49.574949       199.4580743910713   \n",
            "4                     No           49.574949      41.420153086217326   \n",
            "\n",
            "                  Payment_Behaviour     Monthly_Balance Credit_Score  \n",
            "0   High_spent_Small_value_payments  312.49408867943663         Good  \n",
            "1    Low_spent_Large_value_payments  284.62916249607184         Good  \n",
            "2   Low_spent_Medium_value_payments   331.2098628537912         Good  \n",
            "3    Low_spent_Small_value_payments  223.45130972736786         Good  \n",
            "4  High_spent_Medium_value_payments  341.48923103222177         Good  \n",
            "\n",
            "[5 rows x 28 columns]\n"
          ]
        }
      ],
      "source": [
        "# pip install kagglehub[pandas-datasets]\n",
        "import kagglehub\n",
        "from kagglehub import KaggleDatasetAdapter\n",
        "\n",
        "# Set the path to the file you'd like to load\n",
        "file_path = \"train.csv\"\n",
        "\n",
        "# Load the latest version\n",
        "df = kagglehub.load_dataset(KaggleDatasetAdapter.PANDAS, \"parisrohan/credit-score-classification\", file_path,\n",
        ")\n",
        "\n",
        "print(\"First 5 records:\", df.head())"
      ]
    },
    {
      "cell_type": "markdown",
      "source": [
        "**Poznaj dane:**\n",
        "\n",
        "1.   sprawdź wymiary i typy kolumn\n",
        "2.   usuń duplikaty\n",
        "3.   usuń zdbędne kolumny\n",
        "4.   sprawdz liczbę braków danych w poszczególnych kolumnach\n",
        "\n",
        "\n",
        "\n",
        "\n"
      ],
      "metadata": {
        "id": "dpBXHVnkIaSl"
      }
    },
    {
      "cell_type": "code",
      "source": [
        "# Sprawdzenie wymiarów danych\n",
        "print(\"Wymiary zbioru danych:\", df.shape)\n",
        "\n",
        "# Sprawdzenie typów danych\n",
        "print(\"\\nTypy kolumn:\\n\", df.dtypes)\n",
        "\n",
        "# Usunięcie duplikatów\n",
        "df = df.drop_duplicates()\n",
        "print(\"\\nLiczba rekordów po usunięciu duplikatów:\", df.shape[0])\n",
        "\n",
        "# Usunięcie zbędnych kolumn (możesz dodać konkretne kolumny do usunięcia)\n",
        "zbędne_kolumny = []  # np. [\"ID\", \"Timestamp\"]\n",
        "df = df.drop(columns=zbędne_kolumny, errors='ignore')\n",
        "print(\"\\nKolumny po usunięciu zbędnych:\", df.columns)\n",
        "\n",
        "# Sprawdzenie braków danych\n",
        "print(\"\\nLiczba braków danych w kolumnach:\\n\", df.isnull().sum())\n"
      ],
      "metadata": {
        "id": "Hbjbg0-mk9zP",
        "outputId": "a09f4fa1-bec3-4386-f4e1-e0c916470ab8",
        "colab": {
          "base_uri": "https://localhost:8080/"
        }
      },
      "execution_count": 3,
      "outputs": [
        {
          "output_type": "stream",
          "name": "stdout",
          "text": [
            "Wymiary zbioru danych: (100000, 28)\n",
            "\n",
            "Typy kolumn:\n",
            " ID                           object\n",
            "Customer_ID                  object\n",
            "Month                        object\n",
            "Name                         object\n",
            "Age                          object\n",
            "SSN                          object\n",
            "Occupation                   object\n",
            "Annual_Income                object\n",
            "Monthly_Inhand_Salary       float64\n",
            "Num_Bank_Accounts             int64\n",
            "Num_Credit_Card               int64\n",
            "Interest_Rate                 int64\n",
            "Num_of_Loan                  object\n",
            "Type_of_Loan                 object\n",
            "Delay_from_due_date           int64\n",
            "Num_of_Delayed_Payment       object\n",
            "Changed_Credit_Limit         object\n",
            "Num_Credit_Inquiries        float64\n",
            "Credit_Mix                   object\n",
            "Outstanding_Debt             object\n",
            "Credit_Utilization_Ratio    float64\n",
            "Credit_History_Age           object\n",
            "Payment_of_Min_Amount        object\n",
            "Total_EMI_per_month         float64\n",
            "Amount_invested_monthly      object\n",
            "Payment_Behaviour            object\n",
            "Monthly_Balance              object\n",
            "Credit_Score                 object\n",
            "dtype: object\n",
            "\n",
            "Liczba rekordów po usunięciu duplikatów: 100000\n",
            "\n",
            "Kolumny po usunięciu zbędnych: Index(['ID', 'Customer_ID', 'Month', 'Name', 'Age', 'SSN', 'Occupation',\n",
            "       'Annual_Income', 'Monthly_Inhand_Salary', 'Num_Bank_Accounts',\n",
            "       'Num_Credit_Card', 'Interest_Rate', 'Num_of_Loan', 'Type_of_Loan',\n",
            "       'Delay_from_due_date', 'Num_of_Delayed_Payment', 'Changed_Credit_Limit',\n",
            "       'Num_Credit_Inquiries', 'Credit_Mix', 'Outstanding_Debt',\n",
            "       'Credit_Utilization_Ratio', 'Credit_History_Age',\n",
            "       'Payment_of_Min_Amount', 'Total_EMI_per_month',\n",
            "       'Amount_invested_monthly', 'Payment_Behaviour', 'Monthly_Balance',\n",
            "       'Credit_Score'],\n",
            "      dtype='object')\n",
            "\n",
            "Liczba braków danych w kolumnach:\n",
            " ID                              0\n",
            "Customer_ID                     0\n",
            "Month                           0\n",
            "Name                         9985\n",
            "Age                             0\n",
            "SSN                             0\n",
            "Occupation                      0\n",
            "Annual_Income                   0\n",
            "Monthly_Inhand_Salary       15002\n",
            "Num_Bank_Accounts               0\n",
            "Num_Credit_Card                 0\n",
            "Interest_Rate                   0\n",
            "Num_of_Loan                     0\n",
            "Type_of_Loan                11408\n",
            "Delay_from_due_date             0\n",
            "Num_of_Delayed_Payment       7002\n",
            "Changed_Credit_Limit            0\n",
            "Num_Credit_Inquiries         1965\n",
            "Credit_Mix                      0\n",
            "Outstanding_Debt                0\n",
            "Credit_Utilization_Ratio        0\n",
            "Credit_History_Age           9030\n",
            "Payment_of_Min_Amount           0\n",
            "Total_EMI_per_month             0\n",
            "Amount_invested_monthly      4479\n",
            "Payment_Behaviour               0\n",
            "Monthly_Balance              1200\n",
            "Credit_Score                    0\n",
            "dtype: int64\n"
          ]
        }
      ]
    },
    {
      "cell_type": "markdown",
      "source": [
        "Usuń kolumny, które nie będą wykorzystywane w analizie ['ID','Customer_ID','SSN','Name']"
      ],
      "metadata": {
        "id": "NZBCT7FgiS03"
      }
    },
    {
      "cell_type": "code",
      "source": [
        "# Lista kolumn do usunięcia\n",
        "kolumny_do_usuniecia = ['ID', 'Customer_ID', 'SSN', 'Name']\n",
        "\n",
        "# Usunięcie kolumn\n",
        "df = df.drop(columns=kolumny_do_usuniecia, errors='ignore')\n",
        "\n",
        "# Sprawdzenie, czy kolumny zostały usunięte\n",
        "print(\"\\nKolumny po usunięciu zbędnych:\", df.columns)"
      ],
      "metadata": {
        "id": "EOrkOWizk_eR",
        "outputId": "822d4a94-cd17-4aa2-9021-356840b605ea",
        "colab": {
          "base_uri": "https://localhost:8080/"
        }
      },
      "execution_count": 4,
      "outputs": [
        {
          "output_type": "stream",
          "name": "stdout",
          "text": [
            "\n",
            "Kolumny po usunięciu zbędnych: Index(['Month', 'Age', 'Occupation', 'Annual_Income', 'Monthly_Inhand_Salary',\n",
            "       'Num_Bank_Accounts', 'Num_Credit_Card', 'Interest_Rate', 'Num_of_Loan',\n",
            "       'Type_of_Loan', 'Delay_from_due_date', 'Num_of_Delayed_Payment',\n",
            "       'Changed_Credit_Limit', 'Num_Credit_Inquiries', 'Credit_Mix',\n",
            "       'Outstanding_Debt', 'Credit_Utilization_Ratio', 'Credit_History_Age',\n",
            "       'Payment_of_Min_Amount', 'Total_EMI_per_month',\n",
            "       'Amount_invested_monthly', 'Payment_Behaviour', 'Monthly_Balance',\n",
            "       'Credit_Score'],\n",
            "      dtype='object')\n"
          ]
        }
      ]
    },
    {
      "cell_type": "markdown",
      "source": [
        "usuń niektore z zbędnych znakow ('_','-'), zmień puste komorki na nan"
      ],
      "metadata": {
        "id": "yFjng3YXNFyk"
      }
    },
    {
      "cell_type": "code",
      "source": [
        "import numpy as np\n",
        "\n",
        "# Usunięcie znaków '_' i '-' z nazw kolumn\n",
        "df.columns = df.columns.str.replace(r'[_\\-]', '', regex=True)\n",
        "\n",
        "# Zamiana pustych wartości (\"\", \" \") na NaN\n",
        "df.replace(r'^\\s*$', np.nan, regex=True, inplace=True)\n",
        "\n",
        "# Sprawdzenie wyników\n",
        "print(\"\\nNowe nazwy kolumn:\", df.columns)\n",
        "print(\"\\nLiczba braków danych po zamianie pustych komórek na NaN:\\n\", df.isnull().sum())"
      ],
      "metadata": {
        "id": "2G0a50DHlGvX",
        "outputId": "8b0e7213-232f-40f3-d256-9bea77caf633",
        "colab": {
          "base_uri": "https://localhost:8080/"
        }
      },
      "execution_count": 5,
      "outputs": [
        {
          "output_type": "stream",
          "name": "stdout",
          "text": [
            "\n",
            "Nowe nazwy kolumn: Index(['Month', 'Age', 'Occupation', 'AnnualIncome', 'MonthlyInhandSalary',\n",
            "       'NumBankAccounts', 'NumCreditCard', 'InterestRate', 'NumofLoan',\n",
            "       'TypeofLoan', 'Delayfromduedate', 'NumofDelayedPayment',\n",
            "       'ChangedCreditLimit', 'NumCreditInquiries', 'CreditMix',\n",
            "       'OutstandingDebt', 'CreditUtilizationRatio', 'CreditHistoryAge',\n",
            "       'PaymentofMinAmount', 'TotalEMIpermonth', 'Amountinvestedmonthly',\n",
            "       'PaymentBehaviour', 'MonthlyBalance', 'CreditScore'],\n",
            "      dtype='object')\n",
            "\n",
            "Liczba braków danych po zamianie pustych komórek na NaN:\n",
            " Month                         0\n",
            "Age                           0\n",
            "Occupation                    0\n",
            "AnnualIncome                  0\n",
            "MonthlyInhandSalary       15002\n",
            "NumBankAccounts               0\n",
            "NumCreditCard                 0\n",
            "InterestRate                  0\n",
            "NumofLoan                     0\n",
            "TypeofLoan                11408\n",
            "Delayfromduedate              0\n",
            "NumofDelayedPayment        7002\n",
            "ChangedCreditLimit            0\n",
            "NumCreditInquiries         1965\n",
            "CreditMix                     0\n",
            "OutstandingDebt               0\n",
            "CreditUtilizationRatio        0\n",
            "CreditHistoryAge           9030\n",
            "PaymentofMinAmount            0\n",
            "TotalEMIpermonth              0\n",
            "Amountinvestedmonthly      4479\n",
            "PaymentBehaviour              0\n",
            "MonthlyBalance             1200\n",
            "CreditScore                   0\n",
            "dtype: int64\n"
          ]
        }
      ]
    },
    {
      "cell_type": "markdown",
      "source": [
        "Zmień nazwy miesiecy na zmienne liczbowe zgodnie z kolejnością miesięcy"
      ],
      "metadata": {
        "id": "s6WEtmF-lHND"
      }
    },
    {
      "cell_type": "code",
      "source": [
        "month_mapping = {\n",
        "    \"January\": 1, \"February\": 2, \"March\": 3, \"April\": 4, \"May\": 5, \"June\": 6,\n",
        "    \"July\": 7, \"August\": 8, \"September\": 9, \"October\": 10, \"November\": 11, \"December\": 12\n",
        "}\n",
        "\n",
        "df['Month'] = df['Month'].map(month_mapping)\n",
        "\n",
        "# Sprawdzenie wyników\n",
        "print(df[['Month']].head())\n",
        "\n"
      ],
      "metadata": {
        "id": "vr6s99B1YMHC",
        "outputId": "8320abee-a981-40c7-f216-8f41efb201d5",
        "colab": {
          "base_uri": "https://localhost:8080/"
        }
      },
      "execution_count": 6,
      "outputs": [
        {
          "output_type": "stream",
          "name": "stdout",
          "text": [
            "   Month\n",
            "0      1\n",
            "1      2\n",
            "2      3\n",
            "3      4\n",
            "4      5\n"
          ]
        }
      ]
    },
    {
      "cell_type": "markdown",
      "source": [
        "Zakoduj zmienne tekstowe: 'Occupation', 'Type_of_Loan', 'Payment_Behaviour', 'Credit_Mix', użyj LabelEncodera"
      ],
      "metadata": {
        "id": "wHYhUCgNNeR_"
      }
    },
    {
      "cell_type": "code",
      "source": [
        "from sklearn.preprocessing import LabelEncoder\n",
        "\n",
        "# Lista kolumn do zakodowania\n",
        "kolumny_do_kodowania = ['Occupation', 'TypeofLoan', 'PaymentBehaviour', 'CreditMix']\n",
        "\n",
        "# Inicjalizacja LabelEncodera\n",
        "le = LabelEncoder()\n",
        "\n",
        "# Kodowanie każdej kolumny z listy\n",
        "for col in kolumny_do_kodowania:\n",
        "    df[col] = le.fit_transform(df[col])\n",
        "\n",
        "# Sprawdzenie wyników\n",
        "print(df[kolumny_do_kodowania].head())\n"
      ],
      "metadata": {
        "id": "AeCEzmvZlebi",
        "outputId": "9bf51ba3-566a-45da-ba3b-cfa5312ce146",
        "colab": {
          "base_uri": "https://localhost:8080/"
        }
      },
      "execution_count": 8,
      "outputs": [
        {
          "output_type": "stream",
          "name": "stdout",
          "text": [
            "   Occupation  TypeofLoan  PaymentBehaviour  CreditMix\n",
            "0          12         128                 3          3\n",
            "1          12         128                 4          1\n",
            "2          12         128                 5          1\n",
            "3          12         128                 6          1\n",
            "4          12         128                 2          1\n"
          ]
        }
      ]
    },
    {
      "cell_type": "markdown",
      "source": [
        "Przelicz kolumne Credit_History_Age na liczbę mięsiecy\n"
      ],
      "metadata": {
        "id": "f9-rD3Yklibx"
      }
    },
    {
      "cell_type": "code",
      "source": [
        "import re\n",
        "\n",
        "# Funkcja konwertująca wiek historii kredytowej na miesiące\n",
        "def convert_to_months(value):\n",
        "    if pd.isna(value):  # Obsługa wartości NaN\n",
        "        return np.nan\n",
        "    match = re.match(r\"(\\d+)\\s*Years?\\s*(\\d*)\\s*Months?\", str(value))\n",
        "    if match:\n",
        "        years = int(match.group(1))\n",
        "        months = int(match.group(2)) if match.group(2) else 0\n",
        "        return years * 12 + months\n",
        "    return np.nan  # Jeśli format jest niepoprawny, zwróć NaN\n",
        "\n",
        "# Przekształcenie kolumny\n",
        "df['CreditHistoryAge'] = df['CreditHistoryAge'].apply(convert_to_months)\n",
        "\n",
        "# Sprawdzenie wyników\n",
        "print(df[['CreditHistoryAge']].head())\n"
      ],
      "metadata": {
        "id": "dQtgMu49ljHx",
        "outputId": "cd67e881-440c-4ab8-b47b-b74e71214e83",
        "colab": {
          "base_uri": "https://localhost:8080/"
        }
      },
      "execution_count": 9,
      "outputs": [
        {
          "output_type": "stream",
          "name": "stdout",
          "text": [
            "   CreditHistoryAge\n",
            "0               NaN\n",
            "1               NaN\n",
            "2               NaN\n",
            "3               NaN\n",
            "4               NaN\n"
          ]
        }
      ]
    },
    {
      "cell_type": "code",
      "source": [
        "# Rozdzielanie wartości po przecinku i usuwanie zbędnych spacji\n",
        "df['TypeofLoan'] = df['TypeofLoan'].str.split(', ')\n",
        "\n",
        "# Użycie MultiLabelBinarizer do One-Hot Encoding\n",
        "mlb = MultiLabelBinarizer()\n",
        "encoded_df = pd.DataFrame(mlb.fit_transform(df['TypeofLoan']), columns=mlb.classes_)\n",
        "\n",
        "# Łączenie z oryginalnym DataFrame\n",
        "df = df.join(encoded_df).drop(columns=['TypeofLoan'])\n",
        "\n",
        "print(df.head())"
      ],
      "metadata": {
        "id": "V5kZULgXV9jE",
        "outputId": "2b7e27e1-c4c9-44f4-d198-aa68c185a263",
        "colab": {
          "base_uri": "https://localhost:8080/",
          "height": 356
        }
      },
      "execution_count": 10,
      "outputs": [
        {
          "output_type": "error",
          "ename": "AttributeError",
          "evalue": "Can only use .str accessor with string values!",
          "traceback": [
            "\u001b[0;31m---------------------------------------------------------------------------\u001b[0m",
            "\u001b[0;31mAttributeError\u001b[0m                            Traceback (most recent call last)",
            "\u001b[0;32m<ipython-input-10-487dfe8d4150>\u001b[0m in \u001b[0;36m<cell line: 0>\u001b[0;34m()\u001b[0m\n\u001b[1;32m      1\u001b[0m \u001b[0;31m# Rozdzielanie wartości po przecinku i usuwanie zbędnych spacji\u001b[0m\u001b[0;34m\u001b[0m\u001b[0;34m\u001b[0m\u001b[0m\n\u001b[0;32m----> 2\u001b[0;31m \u001b[0mdf\u001b[0m\u001b[0;34m[\u001b[0m\u001b[0;34m'TypeofLoan'\u001b[0m\u001b[0;34m]\u001b[0m \u001b[0;34m=\u001b[0m \u001b[0mdf\u001b[0m\u001b[0;34m[\u001b[0m\u001b[0;34m'TypeofLoan'\u001b[0m\u001b[0;34m]\u001b[0m\u001b[0;34m.\u001b[0m\u001b[0mstr\u001b[0m\u001b[0;34m.\u001b[0m\u001b[0msplit\u001b[0m\u001b[0;34m(\u001b[0m\u001b[0;34m', '\u001b[0m\u001b[0;34m)\u001b[0m\u001b[0;34m\u001b[0m\u001b[0;34m\u001b[0m\u001b[0m\n\u001b[0m\u001b[1;32m      3\u001b[0m \u001b[0;34m\u001b[0m\u001b[0m\n\u001b[1;32m      4\u001b[0m \u001b[0;31m# Użycie MultiLabelBinarizer do One-Hot Encoding\u001b[0m\u001b[0;34m\u001b[0m\u001b[0;34m\u001b[0m\u001b[0m\n\u001b[1;32m      5\u001b[0m \u001b[0mmlb\u001b[0m \u001b[0;34m=\u001b[0m \u001b[0mMultiLabelBinarizer\u001b[0m\u001b[0;34m(\u001b[0m\u001b[0;34m)\u001b[0m\u001b[0;34m\u001b[0m\u001b[0;34m\u001b[0m\u001b[0m\n",
            "\u001b[0;32m/usr/local/lib/python3.11/dist-packages/pandas/core/generic.py\u001b[0m in \u001b[0;36m__getattr__\u001b[0;34m(self, name)\u001b[0m\n\u001b[1;32m   6297\u001b[0m         ):\n\u001b[1;32m   6298\u001b[0m             \u001b[0;32mreturn\u001b[0m \u001b[0mself\u001b[0m\u001b[0;34m[\u001b[0m\u001b[0mname\u001b[0m\u001b[0;34m]\u001b[0m\u001b[0;34m\u001b[0m\u001b[0;34m\u001b[0m\u001b[0m\n\u001b[0;32m-> 6299\u001b[0;31m         \u001b[0;32mreturn\u001b[0m \u001b[0mobject\u001b[0m\u001b[0;34m.\u001b[0m\u001b[0m__getattribute__\u001b[0m\u001b[0;34m(\u001b[0m\u001b[0mself\u001b[0m\u001b[0;34m,\u001b[0m \u001b[0mname\u001b[0m\u001b[0;34m)\u001b[0m\u001b[0;34m\u001b[0m\u001b[0;34m\u001b[0m\u001b[0m\n\u001b[0m\u001b[1;32m   6300\u001b[0m \u001b[0;34m\u001b[0m\u001b[0m\n\u001b[1;32m   6301\u001b[0m     \u001b[0;34m@\u001b[0m\u001b[0mfinal\u001b[0m\u001b[0;34m\u001b[0m\u001b[0;34m\u001b[0m\u001b[0m\n",
            "\u001b[0;32m/usr/local/lib/python3.11/dist-packages/pandas/core/accessor.py\u001b[0m in \u001b[0;36m__get__\u001b[0;34m(self, obj, cls)\u001b[0m\n\u001b[1;32m    222\u001b[0m             \u001b[0;31m# we're accessing the attribute of the class, i.e., Dataset.geo\u001b[0m\u001b[0;34m\u001b[0m\u001b[0;34m\u001b[0m\u001b[0m\n\u001b[1;32m    223\u001b[0m             \u001b[0;32mreturn\u001b[0m \u001b[0mself\u001b[0m\u001b[0;34m.\u001b[0m\u001b[0m_accessor\u001b[0m\u001b[0;34m\u001b[0m\u001b[0;34m\u001b[0m\u001b[0m\n\u001b[0;32m--> 224\u001b[0;31m         \u001b[0maccessor_obj\u001b[0m \u001b[0;34m=\u001b[0m \u001b[0mself\u001b[0m\u001b[0;34m.\u001b[0m\u001b[0m_accessor\u001b[0m\u001b[0;34m(\u001b[0m\u001b[0mobj\u001b[0m\u001b[0;34m)\u001b[0m\u001b[0;34m\u001b[0m\u001b[0;34m\u001b[0m\u001b[0m\n\u001b[0m\u001b[1;32m    225\u001b[0m         \u001b[0;31m# Replace the property with the accessor object. Inspired by:\u001b[0m\u001b[0;34m\u001b[0m\u001b[0;34m\u001b[0m\u001b[0m\n\u001b[1;32m    226\u001b[0m         \u001b[0;31m# https://www.pydanny.com/cached-property.html\u001b[0m\u001b[0;34m\u001b[0m\u001b[0;34m\u001b[0m\u001b[0m\n",
            "\u001b[0;32m/usr/local/lib/python3.11/dist-packages/pandas/core/strings/accessor.py\u001b[0m in \u001b[0;36m__init__\u001b[0;34m(self, data)\u001b[0m\n\u001b[1;32m    189\u001b[0m         \u001b[0;32mfrom\u001b[0m \u001b[0mpandas\u001b[0m\u001b[0;34m.\u001b[0m\u001b[0mcore\u001b[0m\u001b[0;34m.\u001b[0m\u001b[0marrays\u001b[0m\u001b[0;34m.\u001b[0m\u001b[0mstring_\u001b[0m \u001b[0;32mimport\u001b[0m \u001b[0mStringDtype\u001b[0m\u001b[0;34m\u001b[0m\u001b[0;34m\u001b[0m\u001b[0m\n\u001b[1;32m    190\u001b[0m \u001b[0;34m\u001b[0m\u001b[0m\n\u001b[0;32m--> 191\u001b[0;31m         \u001b[0mself\u001b[0m\u001b[0;34m.\u001b[0m\u001b[0m_inferred_dtype\u001b[0m \u001b[0;34m=\u001b[0m \u001b[0mself\u001b[0m\u001b[0;34m.\u001b[0m\u001b[0m_validate\u001b[0m\u001b[0;34m(\u001b[0m\u001b[0mdata\u001b[0m\u001b[0;34m)\u001b[0m\u001b[0;34m\u001b[0m\u001b[0;34m\u001b[0m\u001b[0m\n\u001b[0m\u001b[1;32m    192\u001b[0m         \u001b[0mself\u001b[0m\u001b[0;34m.\u001b[0m\u001b[0m_is_categorical\u001b[0m \u001b[0;34m=\u001b[0m \u001b[0misinstance\u001b[0m\u001b[0;34m(\u001b[0m\u001b[0mdata\u001b[0m\u001b[0;34m.\u001b[0m\u001b[0mdtype\u001b[0m\u001b[0;34m,\u001b[0m \u001b[0mCategoricalDtype\u001b[0m\u001b[0;34m)\u001b[0m\u001b[0;34m\u001b[0m\u001b[0;34m\u001b[0m\u001b[0m\n\u001b[1;32m    193\u001b[0m         \u001b[0mself\u001b[0m\u001b[0;34m.\u001b[0m\u001b[0m_is_string\u001b[0m \u001b[0;34m=\u001b[0m \u001b[0misinstance\u001b[0m\u001b[0;34m(\u001b[0m\u001b[0mdata\u001b[0m\u001b[0;34m.\u001b[0m\u001b[0mdtype\u001b[0m\u001b[0;34m,\u001b[0m \u001b[0mStringDtype\u001b[0m\u001b[0;34m)\u001b[0m\u001b[0;34m\u001b[0m\u001b[0;34m\u001b[0m\u001b[0m\n",
            "\u001b[0;32m/usr/local/lib/python3.11/dist-packages/pandas/core/strings/accessor.py\u001b[0m in \u001b[0;36m_validate\u001b[0;34m(data)\u001b[0m\n\u001b[1;32m    243\u001b[0m \u001b[0;34m\u001b[0m\u001b[0m\n\u001b[1;32m    244\u001b[0m         \u001b[0;32mif\u001b[0m \u001b[0minferred_dtype\u001b[0m \u001b[0;32mnot\u001b[0m \u001b[0;32min\u001b[0m \u001b[0mallowed_types\u001b[0m\u001b[0;34m:\u001b[0m\u001b[0;34m\u001b[0m\u001b[0;34m\u001b[0m\u001b[0m\n\u001b[0;32m--> 245\u001b[0;31m             \u001b[0;32mraise\u001b[0m \u001b[0mAttributeError\u001b[0m\u001b[0;34m(\u001b[0m\u001b[0;34m\"Can only use .str accessor with string values!\"\u001b[0m\u001b[0;34m)\u001b[0m\u001b[0;34m\u001b[0m\u001b[0;34m\u001b[0m\u001b[0m\n\u001b[0m\u001b[1;32m    246\u001b[0m         \u001b[0;32mreturn\u001b[0m \u001b[0minferred_dtype\u001b[0m\u001b[0;34m\u001b[0m\u001b[0;34m\u001b[0m\u001b[0m\n\u001b[1;32m    247\u001b[0m \u001b[0;34m\u001b[0m\u001b[0m\n",
            "\u001b[0;31mAttributeError\u001b[0m: Can only use .str accessor with string values!"
          ]
        }
      ]
    },
    {
      "cell_type": "markdown",
      "source": [
        "Zmien inne zmienne na numeryczne"
      ],
      "metadata": {
        "id": "BIZ0jlOkNUr7"
      }
    },
    {
      "cell_type": "markdown",
      "source": [
        "Uzupełnij braki w kolumnie Monthly_Inhand_Salary,  Annual_Income, .. średnią"
      ],
      "metadata": {
        "id": "iEaaedrkZazE"
      }
    },
    {
      "cell_type": "code",
      "source": [],
      "metadata": {
        "id": "fsqzLQJoluEC"
      },
      "execution_count": null,
      "outputs": []
    },
    {
      "cell_type": "markdown",
      "source": [
        "Narysuj rozkłady zmiennych 'Annual_Income', 'Monthly_Balance'"
      ],
      "metadata": {
        "id": "tDsQgHwDaPIy"
      }
    },
    {
      "cell_type": "code",
      "source": [],
      "metadata": {
        "id": "VDiN9dtkl2qz"
      },
      "execution_count": null,
      "outputs": []
    },
    {
      "cell_type": "markdown",
      "source": [
        "usuń wartości odstające (w przypadku wieku wszystkie ujemne i te powyzej 100 lat)"
      ],
      "metadata": {
        "id": "BNJ-R8r6gPVs"
      }
    },
    {
      "cell_type": "code",
      "source": [],
      "metadata": {
        "id": "N3MhaQ9_l2-G"
      },
      "execution_count": null,
      "outputs": []
    },
    {
      "cell_type": "markdown",
      "source": [
        "Zwizualizuj korelacje między zmiennymi"
      ],
      "metadata": {
        "id": "nPMd_OGqgHhL"
      }
    },
    {
      "cell_type": "code",
      "source": [],
      "metadata": {
        "id": "ScSHId1Sl-z5"
      },
      "execution_count": null,
      "outputs": []
    }
  ]
}