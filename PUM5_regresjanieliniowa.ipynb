{
  "nbformat": 4,
  "nbformat_minor": 0,
  "metadata": {
    "colab": {
      "provenance": [],
      "include_colab_link": true
    },
    "kernelspec": {
      "name": "python3",
      "display_name": "Python 3"
    },
    "language_info": {
      "name": "python"
    }
  },
  "cells": [
    {
      "cell_type": "markdown",
      "metadata": {
        "id": "view-in-github",
        "colab_type": "text"
      },
      "source": [
        "<a href=\"https://colab.research.google.com/github/SzymSAS/lecture1/blob/main/PUM5_regresjanieliniowa.ipynb\" target=\"_parent\"><img src=\"https://colab.research.google.com/assets/colab-badge.svg\" alt=\"Open In Colab\"/></a>"
      ]
    },
    {
      "cell_type": "code",
      "execution_count": 1,
      "metadata": {
        "id": "UUQvQtgOydRo"
      },
      "outputs": [],
      "source": [
        "import numpy as np\n",
        "import pandas as pd\n",
        "import matplotlib.pyplot as plt\n",
        "from sklearn.linear_model import LinearRegression, Ridge, Lasso, HuberRegressor, RANSACRegressor, TheilSenRegressor, SGDRegressor\n",
        "from sklearn.model_selection import train_test_split\n",
        "from sklearn.metrics import mean_squared_error, mean_absolute_error, r2_score, explained_variance_score\n",
        "from sklearn.preprocessing import StandardScaler, LabelEncoder\n",
        "from sklearn.metrics import PredictionErrorDisplay"
      ]
    },
    {
      "cell_type": "code",
      "source": [
        "# pip install kagglehub[pandas-datasets]\n",
        "import kagglehub\n",
        "from kagglehub import KaggleDatasetAdapter\n",
        "\n",
        "# Set the path to the file you'd like to load\n",
        "file_path = \"Salary Data.csv\"\n",
        "\n",
        "# Load the latest version\n",
        "df = kagglehub.load_dataset(\n",
        "  KaggleDatasetAdapter.PANDAS,\n",
        "  \"rkiattisak/salaly-prediction-for-beginer\",\n",
        "  file_path,\n",
        ")\n",
        "\n",
        "print(\"First 5 records:\", df.head())"
      ],
      "metadata": {
        "colab": {
          "base_uri": "https://localhost:8080/"
        },
        "id": "zQHuEE0I6v5A",
        "outputId": "466a03b9-9cb1-4d3c-84bd-32cedcfacd0e"
      },
      "execution_count": 2,
      "outputs": [
        {
          "output_type": "stream",
          "name": "stderr",
          "text": [
            "<ipython-input-2-9f69f8392d9a>:9: DeprecationWarning: load_dataset is deprecated and will be removed in future version.\n",
            "  df = kagglehub.load_dataset(\n"
          ]
        },
        {
          "output_type": "stream",
          "name": "stdout",
          "text": [
            "Downloading from https://www.kaggle.com/api/v1/datasets/download/rkiattisak/salaly-prediction-for-beginer?dataset_version_number=1&file_name=Salary Data.csv...\n"
          ]
        },
        {
          "output_type": "stream",
          "name": "stderr",
          "text": [
            "100%|██████████| 18.9k/18.9k [00:00<00:00, 17.4MB/s]"
          ]
        },
        {
          "output_type": "stream",
          "name": "stdout",
          "text": [
            "First 5 records:     Age  Gender Education Level          Job Title  Years of Experience  \\\n",
            "0  32.0    Male      Bachelor's  Software Engineer                  5.0   \n",
            "1  28.0  Female        Master's       Data Analyst                  3.0   \n",
            "2  45.0    Male             PhD     Senior Manager                 15.0   \n",
            "3  36.0  Female      Bachelor's    Sales Associate                  7.0   \n",
            "4  52.0    Male        Master's           Director                 20.0   \n",
            "\n",
            "     Salary  \n",
            "0   90000.0  \n",
            "1   65000.0  \n",
            "2  150000.0  \n",
            "3   60000.0  \n",
            "4  200000.0  \n"
          ]
        },
        {
          "output_type": "stream",
          "name": "stderr",
          "text": [
            "\n"
          ]
        }
      ]
    },
    {
      "cell_type": "code",
      "source": [
        "df.info()\n",
        "\n",
        "le = LabelEncoder()\n",
        "\n",
        "for column in ['Gender', 'Education Level', 'Job Title']:\n",
        "  if column in df.columns:\n",
        "    df[column] = le.fit_transform(df[column])\n",
        "\n",
        "print(df.head())\n"
      ],
      "metadata": {
        "id": "XDVeN9lG7wox",
        "outputId": "f222d527-323e-4e58-c310-fe5e761d5e00",
        "colab": {
          "base_uri": "https://localhost:8080/"
        }
      },
      "execution_count": 3,
      "outputs": [
        {
          "output_type": "stream",
          "name": "stdout",
          "text": [
            "<class 'pandas.core.frame.DataFrame'>\n",
            "RangeIndex: 375 entries, 0 to 374\n",
            "Data columns (total 6 columns):\n",
            " #   Column               Non-Null Count  Dtype  \n",
            "---  ------               --------------  -----  \n",
            " 0   Age                  373 non-null    float64\n",
            " 1   Gender               373 non-null    object \n",
            " 2   Education Level      373 non-null    object \n",
            " 3   Job Title            373 non-null    object \n",
            " 4   Years of Experience  373 non-null    float64\n",
            " 5   Salary               373 non-null    float64\n",
            "dtypes: float64(3), object(3)\n",
            "memory usage: 17.7+ KB\n",
            "    Age  Gender  Education Level  Job Title  Years of Experience    Salary\n",
            "0  32.0       1                0        159                  5.0   90000.0\n",
            "1  28.0       0                1         17                  3.0   65000.0\n",
            "2  45.0       1                2        130                 15.0  150000.0\n",
            "3  36.0       0                0        101                  7.0   60000.0\n",
            "4  52.0       1                1         22                 20.0  200000.0\n"
          ]
        }
      ]
    },
    {
      "cell_type": "markdown",
      "source": [
        "Zbuduj model benchmarkowy - zwykłą regresję liniową"
      ],
      "metadata": {
        "id": "hMy6agmK8VQ2"
      }
    },
    {
      "cell_type": "code",
      "source": [
        "from sklearn.linear_model import LinearRegression\n",
        "from sklearn.model_selection import train_test_split\n",
        "from sklearn.impute import SimpleImputer\n",
        "\n",
        "# Podział danych na cechy (X) i zmienną docelową (y)\n",
        "X = df.drop(columns=['Salary'])\n",
        "y = df['Salary']\n",
        "\n",
        "# Remove rows with missing values in X and corresponding rows in y\n",
        "X = X.dropna()\n",
        "y = y[X.index]\n",
        "\n",
        "# Podział na zbiór treningowy i testowy\n",
        "X_train, X_test, y_train, y_test = train_test_split(X, y, test_size=0.2, random_state=42)\n",
        "\n",
        "# Create an imputer to fill missing values with the mean\n",
        "imputer = SimpleImputer(strategy='mean')\n",
        "\n",
        "# Fit the imputer on the training data and transform both train and test data\n",
        "X_train, X_test, y_train, y_test = train_test_split(X, y, test_size=0.2, random_state=42)\n",
        "X_train = imputer.fit_transform(X_train) # Fit and Transform on the Training data\n",
        "X_test = imputer.transform(X_test) # Transform the Test data\n",
        "\n",
        "# Inicjalizacja i trenowanie modelu regresji liniowej\n",
        "linear_model = LinearRegression()\n",
        "linear_model.fit(X_train, y_train)\n",
        "\n",
        "# Predykcja na zbiorze testowym\n",
        "y_pred = linear_model.predict(X_test)\n",
        "\n",
        "# Ocena modelu\n",
        "mse = mean_squared_error(y_test, y_pred)\n",
        "mae = mean_absolute_error(y_test, y_pred)\n",
        "r2 = r2_score(y_test, y_pred)\n",
        "\n",
        "print(f'MSE: {mse:.4f}, MAE: {mae:.4f}, R2: {r2:.4f}')"
      ],
      "metadata": {
        "id": "pSvQcBMU8ZnM",
        "outputId": "78469af5-26a2-4431-fc3c-a6e486652703",
        "colab": {
          "base_uri": "https://localhost:8080/"
        }
      },
      "execution_count": 7,
      "outputs": [
        {
          "output_type": "stream",
          "name": "stdout",
          "text": [
            "MSE: 249075656.4272, MAE: 10928.9215, R2: 0.8961\n"
          ]
        }
      ]
    },
    {
      "cell_type": "markdown",
      "source": [
        "Sprawdź czy w danych występuje współliniowość współczynnikiem VIF"
      ],
      "metadata": {
        "id": "ctB2roDT78Ll"
      }
    },
    {
      "cell_type": "code",
      "source": [
        "from statsmodels.stats.outliers_influence import variance_inflation_factor\n",
        "\n",
        "# Obliczanie VIF dla każdej zmiennej niezależnej\n",
        "vif_data = pd.DataFrame()\n",
        "vif_data[\"Feature\"] = X.columns\n",
        "vif_data[\"VIF\"] = [variance_inflation_factor(X.values, i) for i in range(X.shape[1])]\n",
        "\n",
        "print(vif_data)"
      ],
      "metadata": {
        "id": "97MLPmJU76aE",
        "outputId": "f6551c25-0d72-49a1-f754-f0d4b9c35c2f",
        "colab": {
          "base_uri": "https://localhost:8080/"
        }
      },
      "execution_count": 8,
      "outputs": [
        {
          "output_type": "stream",
          "name": "stdout",
          "text": [
            "               Feature        VIF\n",
            "0                  Age  15.191310\n",
            "1               Gender   2.059767\n",
            "2      Education Level   2.403316\n",
            "3            Job Title   4.865563\n",
            "4  Years of Experience   9.479247\n"
          ]
        }
      ]
    },
    {
      "cell_type": "markdown",
      "source": [
        "Spróbuj poprawić wynik używając regresji LASSO"
      ],
      "metadata": {
        "id": "HjfQJLv176Ka"
      }
    },
    {
      "cell_type": "code",
      "source": [
        "from sklearn.linear_model import Lasso\n",
        "\n",
        "# Inicjalizacja i trenowanie modelu LASSO z regularyzacją (alfa określa siłę regularyzacji)\n",
        "lasso_model = Lasso(alpha=100)  # Możesz dostosować wartość alpha\n",
        "\n",
        "lasso_model.fit(X_train, y_train)\n",
        "\n",
        "# Predykcja na zbiorze testowym\n",
        "y_pred_lasso = lasso_model.predict(X_test)\n",
        "\n",
        "# Ocena modelu\n",
        "mse_lasso = mean_squared_error(y_test, y_pred_lasso)\n",
        "mae_lasso = mean_absolute_error(y_test, y_pred_lasso)\n",
        "r2_lasso = r2_score(y_test, y_pred_lasso)\n",
        "\n",
        "print(f'LASSO - MSE: {mse_lasso:.4f}, MAE: {mae_lasso:.4f}, R2: {r2_lasso:.4f}')"
      ],
      "metadata": {
        "id": "iSdjnReZcIVH",
        "outputId": "415067da-4dd0-49fb-8bb7-2a3d34af54a4",
        "colab": {
          "base_uri": "https://localhost:8080/"
        }
      },
      "execution_count": 9,
      "outputs": [
        {
          "output_type": "stream",
          "name": "stdout",
          "text": [
            "LASSO - MSE: 249060331.3467, MAE: 10888.5245, R2: 0.8961\n"
          ]
        }
      ]
    },
    {
      "cell_type": "markdown",
      "source": [
        "Zbuduj dodatkową zmienną, kwadrat lat doświadczenia, zbuduj ponownie regresję\n"
      ],
      "metadata": {
        "id": "gJTWbC4w8gUY"
      }
    },
    {
      "cell_type": "code",
      "source": [
        "# Dodanie nowej cechy - kwadrat lat doświadczenia\n",
        "df[\"Years of Experience²\"] = df[\"Years of Experience\"] ** 2\n",
        "\n",
        "# Podział na cechy i zmienną docelową\n",
        "X = df.drop(columns=['Salary'])\n",
        "y = df['Salary']\n",
        "\n",
        "# Usunięcie brakujących wartości\n",
        "X = X.dropna()\n",
        "y = y[X.index]\n",
        "\n",
        "# Podział na zbiór treningowy i testowy\n",
        "X_train, X_test, y_train, y_test = train_test_split(X, y, test_size=0.2, random_state=42)\n",
        "\n",
        "# Skalowanie danych (opcjonalnie, jeśli modele tego wymagają)\n",
        "scaler = StandardScaler()\n",
        "X_train = scaler.fit_transform(X_train)\n",
        "X_test = scaler.transform(X_test)\n",
        "\n",
        "# Trenowanie modelu regresji liniowej\n",
        "linear_model = LinearRegression()\n",
        "linear_model.fit(X_train, y_train)\n",
        "\n",
        "# Predykcja\n",
        "y_pred = linear_model.predict(X_test)\n",
        "\n",
        "# Ocena modelu\n",
        "mse = mean_squared_error(y_test, y_pred)\n",
        "mae = mean_absolute_error(y_test, y_pred)\n",
        "r2 = r2_score(y_test, y_pred)\n",
        "\n",
        "print(f'MSE: {mse:.4f}, MAE: {mae:.4f}, R2: {r2:.4f}')"
      ],
      "metadata": {
        "id": "BVMatk_v9oy0",
        "outputId": "60ce7634-de92-464d-935b-ef4fef66bcf3",
        "colab": {
          "base_uri": "https://localhost:8080/"
        }
      },
      "execution_count": 10,
      "outputs": [
        {
          "output_type": "stream",
          "name": "stdout",
          "text": [
            "MSE: 253103319.0019, MAE: 10898.0107, R2: 0.8944\n"
          ]
        }
      ]
    },
    {
      "cell_type": "markdown",
      "source": [
        "narysyj wykres typu scatterplot, dla zmiennych lata doswiadczenia i płaca, czy regresja wyższego rzędu jest uzasadniona?"
      ],
      "metadata": {
        "id": "qtmA86qhNxmM"
      }
    },
    {
      "cell_type": "code",
      "source": [
        "import seaborn as sns\n",
        "\n",
        "plt.figure(figsize=(8, 6))\n",
        "sns.scatterplot(x=df[\"Years of Experience\"], y=df[\"Salary\"], alpha=0.5)\n",
        "plt.xlabel(\"Lata doświadczenia\")\n",
        "plt.ylabel(\"Wynagrodzenie\")\n",
        "plt.title(\"Zależność między latami doświadczenia a wynagrodzeniem\")\n",
        "plt.show()"
      ],
      "metadata": {
        "id": "NdQVjRFDdJ6R",
        "outputId": "005a61d2-ed11-43ee-e3bd-5825338b0a7c",
        "colab": {
          "base_uri": "https://localhost:8080/",
          "height": 565
        }
      },
      "execution_count": 13,
      "outputs": [
        {
          "output_type": "display_data",
          "data": {
            "text/plain": [
              "<Figure size 800x600 with 1 Axes>"
            ],
            "image/png": "[encoded data removed]"
          },
          "metadata": {}
        }
      ]
    },
    {
      "cell_type": "markdown",
      "source": [
        "Spróbuj wykorzystać regresje za pomocą K-NN\n",
        "https://scikit-learn.org/stable/auto_examples/neighbors/plot_regression.html#sphx-glr-auto-examples-neighbors-plot-regression-py"
      ],
      "metadata": {
        "id": "jttXjwG69sFw"
      }
    },
    {
      "cell_type": "code",
      "source": [
        "from sklearn.neighbors import KNeighborsRegressor\n",
        "\n",
        "# Inicjalizacja modelu K-NN (wybierz liczbę sąsiadów)\n",
        "knn_model = KNeighborsRegressor(n_neighbors=5)  # Możesz dostosować n_neighbors\n",
        "\n",
        "# Trenowanie modelu\n",
        "knn_model.fit(X_train, y_train)\n",
        "\n",
        "# Predykcja\n",
        "y_pred_knn = knn_model.predict(X_test)\n",
        "\n",
        "# Ocena modelu\n",
        "mse_knn = mean_squared_error(y_test, y_pred_knn)\n",
        "mae_knn = mean_absolute_error(y_test, y_pred_knn)\n",
        "r2_knn = r2_score(y_test, y_pred_knn)\n",
        "\n",
        "print(f'K-NN - MSE: {mse_knn:.4f}, MAE: {mae_knn:.4f}, R2: {r2_knn:.4f}')"
      ],
      "metadata": {
        "id": "vO2UEHx79pPd",
        "outputId": "88013c08-9776-4a71-b88a-b8cda10a70be",
        "colab": {
          "base_uri": "https://localhost:8080/"
        }
      },
      "execution_count": 12,
      "outputs": [
        {
          "output_type": "stream",
          "name": "stdout",
          "text": [
            "K-NN - MSE: 262979798.6667, MAE: 10532.4000, R2: 0.8903\n"
          ]
        }
      ]
    }
  ]
}